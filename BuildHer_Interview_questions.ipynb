{
  "nbformat": 4,
  "nbformat_minor": 0,
  "metadata": {
    "colab": {
      "provenance": [],
      "authorship_tag": "ABX9TyM0vJ/P5BJmtFdacYdqTX/F",
      "include_colab_link": true
    },
    "kernelspec": {
      "name": "python3",
      "display_name": "Python 3"
    },
    "language_info": {
      "name": "python"
    }
  },
  "cells": [
    {
      "cell_type": "markdown",
      "metadata": {
        "id": "view-in-github",
        "colab_type": "text"
      },
      "source": [
        "<a href=\"https://colab.research.google.com/github/Swathyyyyy/BuildHer-Interview-questions/blob/main/BuildHer_Interview_questions.ipynb\" target=\"_parent\"><img src=\"https://colab.research.google.com/assets/colab-badge.svg\" alt=\"Open In Colab\"/></a>"
      ]
    },
    {
      "cell_type": "code",
      "execution_count": null,
      "metadata": {
        "colab": {
          "base_uri": "https://localhost:8080/"
        },
        "id": "6rbXf-EpklHi",
        "outputId": "665ddb83-9636-490b-cfea-d913c47e4f47"
      },
      "outputs": [
        {
          "output_type": "stream",
          "name": "stdout",
          "text": [
            "Length of the last word: 5\n",
            "Length of the last word: 4\n",
            "Length of the last word: 6\n"
          ]
        }
      ],
      "source": [
        "#EASY-2\n",
        "def length_of_last_word(s):\n",
        "    words = s.split()\n",
        "    return len(words[-1])\n",
        "\n",
        "# Example :\n",
        "input_string1 = \"Hello World\"\n",
        "result = length_of_last_word(input_string1)\n",
        "print(\"Length of the last word:\", result)\n",
        "\n",
        "# Example :\n",
        "input_string2 = \"fly me   to   the moon\"\n",
        "result = length_of_last_word(input_string2)\n",
        "print(\"Length of the last word:\", result)\n",
        "\n",
        "# Example :\n",
        "input_string3 = \"luffy is still joyboy\"\n",
        "result = length_of_last_word(input_string3)\n",
        "print(\"Length of the last word:\", result)\n",
        "\n",
        "\n",
        "#EXPLANATION\n",
        "#This function length_of_last_word takes a string s as input, splits it into words using .split(),\n",
        "#and returns the length of the last word in the list of words obtained."
      ]
    },
    {
      "cell_type": "code",
      "source": [
        "#MEDIUM-2\n",
        "def majorityElement(nums):\n",
        "    count1, count2 = 0, 0\n",
        "    candidate1, candidate2 = None, None\n",
        "\n",
        "    for num in nums:\n",
        "        if candidate1 == num:\n",
        "            count1 += 1\n",
        "        elif candidate2 == num:\n",
        "            count2 += 1\n",
        "        elif count1 == 0:\n",
        "            candidate1 = num\n",
        "            count1 = 1\n",
        "        elif count2 == 0:\n",
        "            candidate2 = num\n",
        "            count2 = 1\n",
        "        else:\n",
        "            count1 -= 1\n",
        "            count2 -= 1\n",
        "\n",
        "    count1, count2 = 0, 0\n",
        "    for num in nums:\n",
        "        if num == candidate1:\n",
        "            count1 += 1\n",
        "        elif num == candidate2:\n",
        "            count2 += 1\n",
        "\n",
        "    result = []\n",
        "    if count1 > len(nums) // 3:\n",
        "        result.append(candidate1)\n",
        "    if count2 > len(nums) // 3:\n",
        "        result.append(candidate2)\n",
        "\n",
        "    return result\n",
        "\n",
        "# Test case\n",
        "nums = [3, 2, 3]\n",
        "print(majorityElement(nums))\n",
        "\n",
        "# Test case\n",
        "nums = [1]\n",
        "print(majorityElement(nums))\n",
        "\n",
        "# Test case\n",
        "nums = [1,2]\n",
        "print(majorityElement(nums))\n",
        "\n",
        "#EXPLANATION\n",
        "#The Boyer-Moore Majority Vote algorithm goes through the array in two phases: first to find potential candidates that might appear more than ⌊ n/3 ⌋ times,\n",
        "#and then it verifies the counts of these candidates in a second pass through the array.\n",
        "\n"
      ],
      "metadata": {
        "colab": {
          "base_uri": "https://localhost:8080/"
        },
        "id": "Qx5LJqH8oU1A",
        "outputId": "0d333502-7e0b-4dff-a35b-c9334f658449"
      },
      "execution_count": null,
      "outputs": [
        {
          "output_type": "stream",
          "name": "stdout",
          "text": [
            "[3]\n",
            "[1]\n",
            "[1, 2]\n"
          ]
        }
      ]
    },
    {
      "cell_type": "code",
      "source": [
        "#HARD-3\n",
        "def countDigitOne(n):\n",
        "    count = 0\n",
        "    i = 1\n",
        "    while i <= n:\n",
        "        divider = i * 10\n",
        "        count += (n // divider) * i + min(max(n % divider - i + 1, 0), i)\n",
        "        i *= 10\n",
        "    return count\n",
        "\n",
        "# Example\n",
        "n = 13\n",
        "result = countDigitOne(n)\n",
        "print(f\"The total number of digit 1 appearing in integers <= {n} is {result}\")\n",
        "\n",
        "n = 0\n",
        "result = countDigitOne(n)\n",
        "print(f\"The total number of digit 1 appearing in integers <= {n} is {result}\")\n",
        "\n",
        "#EXPLANATION\n",
        "#A function countDigitOne that takes an integer n as input and calculates the total count of the digit '1' in all integers from 0 to n.\n",
        "#This code efficiently counts the occurrences of the digit '1' by considering the number's structure and how '1' appears at each place (units, tens, hundreds, etc.).\n",
        "\n"
      ],
      "metadata": {
        "colab": {
          "base_uri": "https://localhost:8080/"
        },
        "id": "hpLbUj7QpyME",
        "outputId": "d5363bff-dd2c-4725-c172-8110495516ec"
      },
      "execution_count": 3,
      "outputs": [
        {
          "output_type": "stream",
          "name": "stdout",
          "text": [
            "The total number of digit 1 appearing in integers <= 13 is 6\n",
            "The total number of digit 1 appearing in integers <= 0 is 0\n"
          ]
        }
      ]
    }
  ]
}